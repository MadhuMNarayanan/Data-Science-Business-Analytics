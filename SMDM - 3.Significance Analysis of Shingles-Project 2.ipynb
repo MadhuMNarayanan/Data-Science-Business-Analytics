{
 "cells": [
  {
   "cell_type": "markdown",
   "metadata": {},
   "source": [
    "### Significance Analysis of Shingles\n",
    "\n",
    "Student Name: Madhu Narayanan\n",
    "\n",
    "Batch: PGPDSBA - July 2020\n",
    "\n",
    "Date:- 11.09.2020 "
   ]
  },
  {
   "cell_type": "code",
   "execution_count": 1,
   "metadata": {},
   "outputs": [],
   "source": [
    "import numpy as np\n",
    "import pandas as pd\n",
    "import matplotlib.pyplot as plt\n",
    "%matplotlib inline\n",
    "import seaborn as sns\n",
    "import scipy.stats as stats\n",
    "import statsmodels.stats as sm\n",
    "from scipy.stats import ttest_1samp , ttest_ind\n",
    "from scipy.stats import f\n",
    "import statsmodels.stats.power as smp\n",
    "import os"
   ]
  },
  {
   "cell_type": "code",
   "execution_count": 2,
   "metadata": {},
   "outputs": [],
   "source": [
    "#os.chdir"
   ]
  },
  {
   "cell_type": "markdown",
   "metadata": {},
   "source": [
    "#### Problem Statement:\n",
    "\n",
    "An important quality characteristic used by the manufacturers of ABC asphalt shingles is the amount of moisture the shingles contain when they are packaged. Customers may feel that they have purchased a product lacking in quality if they find moisture and wet shingles inside the packaging.   In some cases, excessive moisture can cause the granules attached to the shingles for texture and colouring purposes to fall off the shingles resulting in appearance problems. To monitor the amount of moisture present, the company conducts moisture tests. A shingle is weighed and then dried. The shingle is then reweighed, and based on the amount of moisture taken out of the product, the pounds of moisture per 100 square feet is calculated. The company would like to show that the mean moisture content is less than 0.35 pound per 100 square feet.\n",
    "\n",
    "The file (A & B shingles.csv ) includes 36 measurements (in pounds per 100 square feet) for A shingles and 31 for B shingles.\n",
    "\n",
    "\n",
    "Let's download the dataset 'A & B shingles.csv' for the Significance analysis"
   ]
  },
  {
   "cell_type": "code",
   "execution_count": 3,
   "metadata": {},
   "outputs": [],
   "source": [
    "df = pd.read_csv('A & B shingles.csv')"
   ]
  },
  {
   "cell_type": "code",
   "execution_count": 4,
   "metadata": {},
   "outputs": [
    {
     "data": {
      "text/html": [
       "<div>\n",
       "<style scoped>\n",
       "    .dataframe tbody tr th:only-of-type {\n",
       "        vertical-align: middle;\n",
       "    }\n",
       "\n",
       "    .dataframe tbody tr th {\n",
       "        vertical-align: top;\n",
       "    }\n",
       "\n",
       "    .dataframe thead th {\n",
       "        text-align: right;\n",
       "    }\n",
       "</style>\n",
       "<table border=\"1\" class=\"dataframe\">\n",
       "  <thead>\n",
       "    <tr style=\"text-align: right;\">\n",
       "      <th></th>\n",
       "      <th>A</th>\n",
       "      <th>B</th>\n",
       "    </tr>\n",
       "  </thead>\n",
       "  <tbody>\n",
       "    <tr>\n",
       "      <th>0</th>\n",
       "      <td>0.44</td>\n",
       "      <td>0.14</td>\n",
       "    </tr>\n",
       "    <tr>\n",
       "      <th>1</th>\n",
       "      <td>0.61</td>\n",
       "      <td>0.15</td>\n",
       "    </tr>\n",
       "    <tr>\n",
       "      <th>2</th>\n",
       "      <td>0.47</td>\n",
       "      <td>0.31</td>\n",
       "    </tr>\n",
       "    <tr>\n",
       "      <th>3</th>\n",
       "      <td>0.30</td>\n",
       "      <td>0.16</td>\n",
       "    </tr>\n",
       "    <tr>\n",
       "      <th>4</th>\n",
       "      <td>0.15</td>\n",
       "      <td>0.37</td>\n",
       "    </tr>\n",
       "  </tbody>\n",
       "</table>\n",
       "</div>"
      ],
      "text/plain": [
       "      A     B\n",
       "0  0.44  0.14\n",
       "1  0.61  0.15\n",
       "2  0.47  0.31\n",
       "3  0.30  0.16\n",
       "4  0.15  0.37"
      ]
     },
     "execution_count": 4,
     "metadata": {},
     "output_type": "execute_result"
    }
   ],
   "source": [
    "df.head()"
   ]
  },
  {
   "cell_type": "code",
   "execution_count": 5,
   "metadata": {
    "scrolled": true
   },
   "outputs": [
    {
     "data": {
      "text/html": [
       "<div>\n",
       "<style scoped>\n",
       "    .dataframe tbody tr th:only-of-type {\n",
       "        vertical-align: middle;\n",
       "    }\n",
       "\n",
       "    .dataframe tbody tr th {\n",
       "        vertical-align: top;\n",
       "    }\n",
       "\n",
       "    .dataframe thead th {\n",
       "        text-align: right;\n",
       "    }\n",
       "</style>\n",
       "<table border=\"1\" class=\"dataframe\">\n",
       "  <thead>\n",
       "    <tr style=\"text-align: right;\">\n",
       "      <th></th>\n",
       "      <th>A</th>\n",
       "      <th>B</th>\n",
       "    </tr>\n",
       "  </thead>\n",
       "  <tbody>\n",
       "    <tr>\n",
       "      <th>31</th>\n",
       "      <td>0.40</td>\n",
       "      <td>NaN</td>\n",
       "    </tr>\n",
       "    <tr>\n",
       "      <th>32</th>\n",
       "      <td>0.29</td>\n",
       "      <td>NaN</td>\n",
       "    </tr>\n",
       "    <tr>\n",
       "      <th>33</th>\n",
       "      <td>0.43</td>\n",
       "      <td>NaN</td>\n",
       "    </tr>\n",
       "    <tr>\n",
       "      <th>34</th>\n",
       "      <td>0.34</td>\n",
       "      <td>NaN</td>\n",
       "    </tr>\n",
       "    <tr>\n",
       "      <th>35</th>\n",
       "      <td>0.37</td>\n",
       "      <td>NaN</td>\n",
       "    </tr>\n",
       "  </tbody>\n",
       "</table>\n",
       "</div>"
      ],
      "text/plain": [
       "       A   B\n",
       "31  0.40 NaN\n",
       "32  0.29 NaN\n",
       "33  0.43 NaN\n",
       "34  0.34 NaN\n",
       "35  0.37 NaN"
      ]
     },
     "execution_count": 5,
     "metadata": {},
     "output_type": "execute_result"
    }
   ],
   "source": [
    "df.tail()"
   ]
  },
  {
   "cell_type": "code",
   "execution_count": 6,
   "metadata": {},
   "outputs": [
    {
     "data": {
      "text/plain": [
       "(36, 2)"
      ]
     },
     "execution_count": 6,
     "metadata": {},
     "output_type": "execute_result"
    }
   ],
   "source": [
    "df.shape"
   ]
  },
  {
   "cell_type": "code",
   "execution_count": 7,
   "metadata": {},
   "outputs": [
    {
     "data": {
      "text/plain": [
       "A    0\n",
       "B    5\n",
       "dtype: int64"
      ]
     },
     "execution_count": 7,
     "metadata": {},
     "output_type": "execute_result"
    }
   ],
   "source": [
    "df.isnull().sum()"
   ]
  },
  {
   "cell_type": "markdown",
   "metadata": {},
   "source": [
    "The original dataset had five records with null values in column B. We have removed the null values into a new DataFrame 'shing'"
   ]
  },
  {
   "cell_type": "code",
   "execution_count": 8,
   "metadata": {},
   "outputs": [
    {
     "data": {
      "text/plain": [
       "28"
      ]
     },
     "execution_count": 8,
     "metadata": {},
     "output_type": "execute_result"
    }
   ],
   "source": [
    "df.A.nunique()"
   ]
  },
  {
   "cell_type": "code",
   "execution_count": 9,
   "metadata": {},
   "outputs": [
    {
     "data": {
      "text/plain": [
       "23"
      ]
     },
     "execution_count": 9,
     "metadata": {},
     "output_type": "execute_result"
    }
   ],
   "source": [
    "df.B.nunique()"
   ]
  },
  {
   "cell_type": "code",
   "execution_count": 10,
   "metadata": {},
   "outputs": [
    {
     "name": "stdout",
     "output_type": "stream",
     "text": [
      "<class 'pandas.core.frame.DataFrame'>\n",
      "RangeIndex: 36 entries, 0 to 35\n",
      "Data columns (total 2 columns):\n",
      " #   Column  Non-Null Count  Dtype  \n",
      "---  ------  --------------  -----  \n",
      " 0   A       36 non-null     float64\n",
      " 1   B       31 non-null     float64\n",
      "dtypes: float64(2)\n",
      "memory usage: 704.0 bytes\n"
     ]
    }
   ],
   "source": [
    "df.info()"
   ]
  },
  {
   "cell_type": "code",
   "execution_count": 11,
   "metadata": {},
   "outputs": [
    {
     "name": "stdout",
     "output_type": "stream",
     "text": [
      "11.399999999999999\n"
     ]
    },
    {
     "data": {
      "image/png": "[encoded data removed]",
      "text/plain": [
       "<Figure size 432x288 with 1 Axes>"
      ]
     },
     "metadata": {
      "needs_background": "light"
     },
     "output_type": "display_data"
    }
   ],
   "source": [
    "print(df['A'].sum())\n",
    "df['A'].value_counts().plot(kind='bar');"
   ]
  },
  {
   "cell_type": "code",
   "execution_count": 12,
   "metadata": {},
   "outputs": [
    {
     "name": "stdout",
     "output_type": "stream",
     "text": [
      "8.48\n"
     ]
    },
    {
     "data": {
      "image/png": "[encoded data removed]",
      "text/plain": [
       "<Figure size 432x288 with 1 Axes>"
      ]
     },
     "metadata": {
      "needs_background": "light"
     },
     "output_type": "display_data"
    }
   ],
   "source": [
    "print(df['B'].sum())\n",
    "df['B'].value_counts().plot(kind='bar');"
   ]
  },
  {
   "cell_type": "code",
   "execution_count": 13,
   "metadata": {},
   "outputs": [
    {
     "data": {
      "image/png": "[encoded data removed]",
      "text/plain": [
       "<Figure size 432x288 with 1 Axes>"
      ]
     },
     "metadata": {
      "needs_background": "light"
     },
     "output_type": "display_data"
    }
   ],
   "source": [
    "df.plot(kind='box');"
   ]
  },
  {
   "cell_type": "code",
   "execution_count": 14,
   "metadata": {},
   "outputs": [
    {
     "data": {
      "image/png": "[encoded data removed]",
      "text/plain": [
       "<Figure size 720x360 with 2 Axes>"
      ]
     },
     "metadata": {
      "needs_background": "light"
     },
     "output_type": "display_data"
    }
   ],
   "source": [
    "df.iloc[:,0:2].hist(figsize=(10,5))\n",
    "plt.show()"
   ]
  },
  {
   "cell_type": "markdown",
   "metadata": {},
   "source": [
    "Mean and Median Values of each sample are different between both shingles data.\n",
    "\n",
    "Bothe the shingle data looks more assymmetrically distributed rather right-skewed."
   ]
  },
  {
   "cell_type": "markdown",
   "metadata": {},
   "source": [
    "### 3.1 Do you think there is evidence that means moisture contents in both types of shingles are within the permissible limits? State your conclusions clearly showing all steps."
   ]
  },
  {
   "cell_type": "code",
   "execution_count": 15,
   "metadata": {},
   "outputs": [
    {
     "data": {
      "text/html": [
       "<div>\n",
       "<style scoped>\n",
       "    .dataframe tbody tr th:only-of-type {\n",
       "        vertical-align: middle;\n",
       "    }\n",
       "\n",
       "    .dataframe tbody tr th {\n",
       "        vertical-align: top;\n",
       "    }\n",
       "\n",
       "    .dataframe thead th {\n",
       "        text-align: right;\n",
       "    }\n",
       "</style>\n",
       "<table border=\"1\" class=\"dataframe\">\n",
       "  <thead>\n",
       "    <tr style=\"text-align: right;\">\n",
       "      <th></th>\n",
       "      <th>count</th>\n",
       "      <th>mean</th>\n",
       "      <th>std</th>\n",
       "      <th>min</th>\n",
       "      <th>25%</th>\n",
       "      <th>50%</th>\n",
       "      <th>75%</th>\n",
       "      <th>max</th>\n",
       "    </tr>\n",
       "  </thead>\n",
       "  <tbody>\n",
       "    <tr>\n",
       "      <th>A</th>\n",
       "      <td>36.0</td>\n",
       "      <td>0.316667</td>\n",
       "      <td>0.135731</td>\n",
       "      <td>0.13</td>\n",
       "      <td>0.2075</td>\n",
       "      <td>0.29</td>\n",
       "      <td>0.3925</td>\n",
       "      <td>0.72</td>\n",
       "    </tr>\n",
       "    <tr>\n",
       "      <th>B</th>\n",
       "      <td>31.0</td>\n",
       "      <td>0.273548</td>\n",
       "      <td>0.137296</td>\n",
       "      <td>0.10</td>\n",
       "      <td>0.1600</td>\n",
       "      <td>0.23</td>\n",
       "      <td>0.4000</td>\n",
       "      <td>0.58</td>\n",
       "    </tr>\n",
       "  </tbody>\n",
       "</table>\n",
       "</div>"
      ],
      "text/plain": [
       "   count      mean       std   min     25%   50%     75%   max\n",
       "A   36.0  0.316667  0.135731  0.13  0.2075  0.29  0.3925  0.72\n",
       "B   31.0  0.273548  0.137296  0.10  0.1600  0.23  0.4000  0.58"
      ]
     },
     "execution_count": 15,
     "metadata": {},
     "output_type": "execute_result"
    }
   ],
   "source": [
    "df.describe().T"
   ]
  },
  {
   "cell_type": "markdown",
   "metadata": {},
   "source": [
    "#### Let's formulate Hypothesis testing for Shingles A:\n",
    "\n",
    "Step 1: Given: nA = 36, x¯¯A =0.3087, σA = 0.1436, μA = 0.3500.  \n",
    "\n",
    "• Step 2: Let us formulate the hypothesis.\n",
    "\n",
    "H0 (null hypothesis): μA (population mean) >= 0.3500\n",
    "\n",
    "H1 (alternate hypothesis): μA (population mean) < 0.3500\n",
    "[this is an example of a one-tailed test]\n",
    "\n",
    "• Step 3: Define the test statistic based on the information in the question. Here, we are going to use the Zstat .\n",
    "\n",
    "Let us calculate the value of the test statistic."
   ]
  },
  {
   "cell_type": "code",
   "execution_count": 16,
   "metadata": {},
   "outputs": [
    {
     "name": "stdout",
     "output_type": "stream",
     "text": [
      "One sample t_test result for Shingle A: \n",
      "t statistic_A: -1.4735046253382782\n",
      "p-value_A: 0.14955266289815025 \n"
     ]
    }
   ],
   "source": [
    "t_statistic_A, p_value_A = ttest_1samp(df.A, 0.35)\n",
    "print('One sample t_test result for Shingle A: \\nt statistic_A: {0}\\np-value_A: {1} '.format(t_statistic_A, p_value_A))"
   ]
  },
  {
   "cell_type": "code",
   "execution_count": 17,
   "metadata": {},
   "outputs": [
    {
     "name": "stdout",
     "output_type": "stream",
     "text": [
      "Level of significance - ⍺: 0.05\n",
      "We have no evidence to reject the null hypothesis since p_value > Level of significance\n",
      "Our one-sample t-test p-value= 0.14955266289815025\n"
     ]
    }
   ],
   "source": [
    "alpha = 0.05 # Level of significance (95% of Confidence level)\n",
    "print('Level of significance - ⍺: %.2f' %alpha)\n",
    "if p_value_A < alpha: \n",
    "    print('We have evidence to reject the null hypothesis since p_value < Level of significance')\n",
    "else:\n",
    "    print('We have no evidence to reject the null hypothesis since p_value > Level of significance') \n",
    "\n",
    "print (\"Our one-sample t-test p-value=\", p_value_A)"
   ]
  },
  {
   "cell_type": "markdown",
   "metadata": {},
   "source": [
    "We see that the p-value > α for Shingles A . Thus, it is confirmed we have no evidence to Reject the null hypothesis (Ho).  \n",
    "\n",
    "##### Hence with 95% confidence, we fail to reject the Null Hypothesis and reject company's claim that mean moisture content is less than 0.35 pound per 100 square feet for Shingles A."
   ]
  },
  {
   "cell_type": "markdown",
   "metadata": {},
   "source": [
    "#### Let's formulate Hypothesis testing for Shingles B:"
   ]
  },
  {
   "cell_type": "markdown",
   "metadata": {},
   "source": [
    "Given: nB = 31, x¯¯B =0.2736, σB = 0.1373, μB = 0.3500.\n",
    "\n",
    "Let us formulate the hypothesis. \n",
    "\n",
    "H0 (null hypothesis): μB (population mean) >= 0.3500  \n",
    "\n",
    "H1 (alternate hypothesis): μB (population mean) < 3500\n",
    "\n",
    "[this is an one-tailed test]  \n",
    "\n",
    "Let us calculate the value of the test statistic using One-sample t-test."
   ]
  },
  {
   "cell_type": "code",
   "execution_count": 18,
   "metadata": {},
   "outputs": [
    {
     "name": "stdout",
     "output_type": "stream",
     "text": [
      "One sample t_test result for Shingle B: \n",
      "t statistic_B: -3.1003313069986995\n",
      "p-value_B: 0.004180954800638365 \n"
     ]
    }
   ],
   "source": [
    "t_statistic_B, p_value_B = ttest_1samp(df.B, 0.35,nan_policy='omit')\n",
    "print('One sample t_test result for Shingle B: \\nt statistic_B: {0}\\np-value_B: {1} '.format(t_statistic_B, p_value_B))"
   ]
  },
  {
   "cell_type": "code",
   "execution_count": 19,
   "metadata": {},
   "outputs": [
    {
     "name": "stdout",
     "output_type": "stream",
     "text": [
      "Level of significance - ⍺: 0.05\n",
      "We have evidence to reject the null hypothesis since p_value < Level of significance\n",
      "Our one-sample t-test p-value= 0.004180954800638365\n"
     ]
    }
   ],
   "source": [
    "alpha = 0.05 # Level of significance (95% of Confidence level)\n",
    "print('Level of significance - ⍺: %.2f' %alpha)\n",
    "if p_value_B < alpha: \n",
    "    print('We have evidence to reject the null hypothesis since p_value < Level of significance')\n",
    "else:\n",
    "    print('We have no evidence to reject the null hypothesis since p_value > Level of significance') \n",
    "\n",
    "print (\"Our one-sample t-test p-value=\", p_value_B)"
   ]
  },
  {
   "cell_type": "markdown",
   "metadata": {},
   "source": [
    "##### We see that the p-value < α for Shingles B . Thus, it is confirmed we Reject the the null hypothesis (Ho).\n",
    "\n",
    "With 95% confidence, we are able to Reject the Null Hypothesis and accept company's claim that mean moisture content is less than 0.35 pound per 100 square feet for Shingles B\n",
    "\n"
   ]
  },
  {
   "cell_type": "markdown",
   "metadata": {},
   "source": [
    "#### From both the shingles,the evidences are different where:   \n",
    "\n",
    "a. we fail to reject Null hypothesis (Ho) for Shingle A and reject company's claim that mean moisture content is less than 0.35 pound per 100 square feet for Shingle A. \n",
    "\n",
    "b. we reject the Null hypothesis (Ho) for Shingle B and accept company's claim that mean moisture content is less than 0.35 pound per 100 square feet for Shingle B. \n",
    "\n",
    "\n",
    "#### Hence from the evidence taken from the above hypothesis workings we can say that:\n",
    "\n",
    "a. the shingle A is NOT within the permissible limit of having mean moisture <0.35 pounds per 100 square feet as company claimed.\n",
    "\n",
    "b. the shingle B is within the permissible limit of having mean moisture <0.35 pounds per 100 square feet as company claimed."
   ]
  },
  {
   "cell_type": "markdown",
   "metadata": {},
   "source": [
    "### 3.2 Do you think that the population mean for shingles A and B are equal? Form the hypothesis and conduct the test of the hypothesis. What assumption do you need to check before the test for equality of means is performed?\n"
   ]
  },
  {
   "cell_type": "code",
   "execution_count": 20,
   "metadata": {},
   "outputs": [
    {
     "data": {
      "text/html": [
       "<div>\n",
       "<style scoped>\n",
       "    .dataframe tbody tr th:only-of-type {\n",
       "        vertical-align: middle;\n",
       "    }\n",
       "\n",
       "    .dataframe tbody tr th {\n",
       "        vertical-align: top;\n",
       "    }\n",
       "\n",
       "    .dataframe thead th {\n",
       "        text-align: right;\n",
       "    }\n",
       "</style>\n",
       "<table border=\"1\" class=\"dataframe\">\n",
       "  <thead>\n",
       "    <tr style=\"text-align: right;\">\n",
       "      <th></th>\n",
       "      <th>A</th>\n",
       "      <th>B</th>\n",
       "      <th>Diff</th>\n",
       "    </tr>\n",
       "  </thead>\n",
       "  <tbody>\n",
       "    <tr>\n",
       "      <th>0</th>\n",
       "      <td>0.44</td>\n",
       "      <td>0.14</td>\n",
       "      <td>0.30</td>\n",
       "    </tr>\n",
       "    <tr>\n",
       "      <th>1</th>\n",
       "      <td>0.61</td>\n",
       "      <td>0.15</td>\n",
       "      <td>0.46</td>\n",
       "    </tr>\n",
       "    <tr>\n",
       "      <th>2</th>\n",
       "      <td>0.47</td>\n",
       "      <td>0.31</td>\n",
       "      <td>0.16</td>\n",
       "    </tr>\n",
       "    <tr>\n",
       "      <th>3</th>\n",
       "      <td>0.30</td>\n",
       "      <td>0.16</td>\n",
       "      <td>0.14</td>\n",
       "    </tr>\n",
       "    <tr>\n",
       "      <th>4</th>\n",
       "      <td>0.15</td>\n",
       "      <td>0.37</td>\n",
       "      <td>-0.22</td>\n",
       "    </tr>\n",
       "    <tr>\n",
       "      <th>5</th>\n",
       "      <td>0.24</td>\n",
       "      <td>0.18</td>\n",
       "      <td>0.06</td>\n",
       "    </tr>\n",
       "    <tr>\n",
       "      <th>6</th>\n",
       "      <td>0.16</td>\n",
       "      <td>0.42</td>\n",
       "      <td>-0.26</td>\n",
       "    </tr>\n",
       "    <tr>\n",
       "      <th>7</th>\n",
       "      <td>0.20</td>\n",
       "      <td>0.58</td>\n",
       "      <td>-0.38</td>\n",
       "    </tr>\n",
       "    <tr>\n",
       "      <th>8</th>\n",
       "      <td>0.20</td>\n",
       "      <td>0.25</td>\n",
       "      <td>-0.05</td>\n",
       "    </tr>\n",
       "    <tr>\n",
       "      <th>9</th>\n",
       "      <td>0.20</td>\n",
       "      <td>0.41</td>\n",
       "      <td>-0.21</td>\n",
       "    </tr>\n",
       "    <tr>\n",
       "      <th>10</th>\n",
       "      <td>0.26</td>\n",
       "      <td>0.17</td>\n",
       "      <td>0.09</td>\n",
       "    </tr>\n",
       "    <tr>\n",
       "      <th>11</th>\n",
       "      <td>0.14</td>\n",
       "      <td>0.13</td>\n",
       "      <td>0.01</td>\n",
       "    </tr>\n",
       "    <tr>\n",
       "      <th>12</th>\n",
       "      <td>0.33</td>\n",
       "      <td>0.23</td>\n",
       "      <td>0.10</td>\n",
       "    </tr>\n",
       "    <tr>\n",
       "      <th>13</th>\n",
       "      <td>0.13</td>\n",
       "      <td>0.11</td>\n",
       "      <td>0.02</td>\n",
       "    </tr>\n",
       "    <tr>\n",
       "      <th>14</th>\n",
       "      <td>0.72</td>\n",
       "      <td>0.10</td>\n",
       "      <td>0.62</td>\n",
       "    </tr>\n",
       "    <tr>\n",
       "      <th>15</th>\n",
       "      <td>0.51</td>\n",
       "      <td>0.19</td>\n",
       "      <td>0.32</td>\n",
       "    </tr>\n",
       "    <tr>\n",
       "      <th>16</th>\n",
       "      <td>0.28</td>\n",
       "      <td>0.22</td>\n",
       "      <td>0.06</td>\n",
       "    </tr>\n",
       "    <tr>\n",
       "      <th>17</th>\n",
       "      <td>0.39</td>\n",
       "      <td>0.44</td>\n",
       "      <td>-0.05</td>\n",
       "    </tr>\n",
       "    <tr>\n",
       "      <th>18</th>\n",
       "      <td>0.39</td>\n",
       "      <td>0.11</td>\n",
       "      <td>0.28</td>\n",
       "    </tr>\n",
       "    <tr>\n",
       "      <th>19</th>\n",
       "      <td>0.25</td>\n",
       "      <td>0.11</td>\n",
       "      <td>0.14</td>\n",
       "    </tr>\n",
       "    <tr>\n",
       "      <th>20</th>\n",
       "      <td>0.16</td>\n",
       "      <td>0.31</td>\n",
       "      <td>-0.15</td>\n",
       "    </tr>\n",
       "    <tr>\n",
       "      <th>21</th>\n",
       "      <td>0.20</td>\n",
       "      <td>0.43</td>\n",
       "      <td>-0.23</td>\n",
       "    </tr>\n",
       "    <tr>\n",
       "      <th>22</th>\n",
       "      <td>0.22</td>\n",
       "      <td>0.26</td>\n",
       "      <td>-0.04</td>\n",
       "    </tr>\n",
       "    <tr>\n",
       "      <th>23</th>\n",
       "      <td>0.42</td>\n",
       "      <td>0.18</td>\n",
       "      <td>0.24</td>\n",
       "    </tr>\n",
       "    <tr>\n",
       "      <th>24</th>\n",
       "      <td>0.24</td>\n",
       "      <td>0.44</td>\n",
       "      <td>-0.20</td>\n",
       "    </tr>\n",
       "    <tr>\n",
       "      <th>25</th>\n",
       "      <td>0.21</td>\n",
       "      <td>0.43</td>\n",
       "      <td>-0.22</td>\n",
       "    </tr>\n",
       "    <tr>\n",
       "      <th>26</th>\n",
       "      <td>0.49</td>\n",
       "      <td>0.16</td>\n",
       "      <td>0.33</td>\n",
       "    </tr>\n",
       "    <tr>\n",
       "      <th>27</th>\n",
       "      <td>0.34</td>\n",
       "      <td>0.52</td>\n",
       "      <td>-0.18</td>\n",
       "    </tr>\n",
       "    <tr>\n",
       "      <th>28</th>\n",
       "      <td>0.36</td>\n",
       "      <td>0.36</td>\n",
       "      <td>0.00</td>\n",
       "    </tr>\n",
       "    <tr>\n",
       "      <th>29</th>\n",
       "      <td>0.29</td>\n",
       "      <td>0.22</td>\n",
       "      <td>0.07</td>\n",
       "    </tr>\n",
       "    <tr>\n",
       "      <th>30</th>\n",
       "      <td>0.27</td>\n",
       "      <td>0.39</td>\n",
       "      <td>-0.12</td>\n",
       "    </tr>\n",
       "    <tr>\n",
       "      <th>31</th>\n",
       "      <td>0.40</td>\n",
       "      <td>NaN</td>\n",
       "      <td>NaN</td>\n",
       "    </tr>\n",
       "    <tr>\n",
       "      <th>32</th>\n",
       "      <td>0.29</td>\n",
       "      <td>NaN</td>\n",
       "      <td>NaN</td>\n",
       "    </tr>\n",
       "    <tr>\n",
       "      <th>33</th>\n",
       "      <td>0.43</td>\n",
       "      <td>NaN</td>\n",
       "      <td>NaN</td>\n",
       "    </tr>\n",
       "    <tr>\n",
       "      <th>34</th>\n",
       "      <td>0.34</td>\n",
       "      <td>NaN</td>\n",
       "      <td>NaN</td>\n",
       "    </tr>\n",
       "    <tr>\n",
       "      <th>35</th>\n",
       "      <td>0.37</td>\n",
       "      <td>NaN</td>\n",
       "      <td>NaN</td>\n",
       "    </tr>\n",
       "  </tbody>\n",
       "</table>\n",
       "</div>"
      ],
      "text/plain": [
       "       A     B  Diff\n",
       "0   0.44  0.14  0.30\n",
       "1   0.61  0.15  0.46\n",
       "2   0.47  0.31  0.16\n",
       "3   0.30  0.16  0.14\n",
       "4   0.15  0.37 -0.22\n",
       "5   0.24  0.18  0.06\n",
       "6   0.16  0.42 -0.26\n",
       "7   0.20  0.58 -0.38\n",
       "8   0.20  0.25 -0.05\n",
       "9   0.20  0.41 -0.21\n",
       "10  0.26  0.17  0.09\n",
       "11  0.14  0.13  0.01\n",
       "12  0.33  0.23  0.10\n",
       "13  0.13  0.11  0.02\n",
       "14  0.72  0.10  0.62\n",
       "15  0.51  0.19  0.32\n",
       "16  0.28  0.22  0.06\n",
       "17  0.39  0.44 -0.05\n",
       "18  0.39  0.11  0.28\n",
       "19  0.25  0.11  0.14\n",
       "20  0.16  0.31 -0.15\n",
       "21  0.20  0.43 -0.23\n",
       "22  0.22  0.26 -0.04\n",
       "23  0.42  0.18  0.24\n",
       "24  0.24  0.44 -0.20\n",
       "25  0.21  0.43 -0.22\n",
       "26  0.49  0.16  0.33\n",
       "27  0.34  0.52 -0.18\n",
       "28  0.36  0.36  0.00\n",
       "29  0.29  0.22  0.07\n",
       "30  0.27  0.39 -0.12\n",
       "31  0.40   NaN   NaN\n",
       "32  0.29   NaN   NaN\n",
       "33  0.43   NaN   NaN\n",
       "34  0.34   NaN   NaN\n",
       "35  0.37   NaN   NaN"
      ]
     },
     "execution_count": 20,
     "metadata": {},
     "output_type": "execute_result"
    }
   ],
   "source": [
    "df['Diff'] = df['A'] - df['B']\n",
    "df"
   ]
  },
  {
   "cell_type": "code",
   "execution_count": 21,
   "metadata": {},
   "outputs": [
    {
     "data": {
      "text/plain": [
       "count    31.000000\n",
       "mean      0.035161\n",
       "std       0.231817\n",
       "min      -0.380000\n",
       "25%      -0.165000\n",
       "50%       0.020000\n",
       "75%       0.150000\n",
       "max       0.620000\n",
       "Name: Diff, dtype: float64"
      ]
     },
     "execution_count": 21,
     "metadata": {},
     "output_type": "execute_result"
    }
   ],
   "source": [
    "df.Diff.describe().T"
   ]
  },
  {
   "cell_type": "markdown",
   "metadata": {},
   "source": [
    "To determine the means are same for both samples of Shigles A & B, let's conduct hypothesis testing for the same.\n",
    "\n",
    "The hypothesis construct we are going to do is whether the difference of Mean of Shingle A & Mean of Shingle B = 0:\n",
    "\n",
    "Hypothesis:  \n",
    "\n",
    "Ho : μA-μB = 0 ( If the difference between Mean of Shingles A & B = 0 then they are equal,so the  Population Mean is same for both the samples A & B).   \n",
    "\n",
    "H1 : μA-μB ≠ 0 ( If the difference between Mean of Shingles A & B ≠ 0 then they are not equal,so the  Population Mean is NOT same for both the samples A & B).\n",
    "\n",
    "Note: We are considering 95% confidence level for this test as standard as no spoecific mentioning done on the same.\n",
    "\n",
    "Therefore calculating Two-sampled T-Test: Please note that the length of the sample is not the same for A & B shingles, so we use nan_policy='omit' to consider them equal."
   ]
  },
  {
   "cell_type": "markdown",
   "metadata": {},
   "source": [
    "Calculating T-critical value at 95% confidence level (⍺=0.05 or 5%): "
   ]
  },
  {
   "cell_type": "code",
   "execution_count": 22,
   "metadata": {},
   "outputs": [
    {
     "name": "stdout",
     "output_type": "stream",
     "text": [
      "tstat 1.2896282719661123\n",
      "P Value 0.2017496571835306\n"
     ]
    }
   ],
   "source": [
    "t_statistic, p_value  = ttest_ind(df.A,df.B,nan_policy='omit')\n",
    "print('tstat',t_statistic)    \n",
    "print('P Value',p_value)    "
   ]
  },
  {
   "cell_type": "code",
   "execution_count": 23,
   "metadata": {},
   "outputs": [
    {
     "name": "stdout",
     "output_type": "stream",
     "text": [
      "two-sample t-test p-value is: 0.2017496571835306\n",
      "We do not have enough evidence to reject the null hypothesis in favour of alternative hypothesis\n",
      "We conclude that the Population mean is the same for both the Shingles A & B\n"
     ]
    }
   ],
   "source": [
    "print('two-sample t-test p-value is:', p_value)\n",
    "\n",
    "alpha = 0.05\n",
    "\n",
    "if p_value < alpha:\n",
    "    print('We have enough evidence to reject the null hypothesis in favour of alternative hypothesis')\n",
    "    print('We conclude that the Population mean is not the same for both the Shingles A & B')\n",
    "else:\n",
    "    print('We do not have enough evidence to reject the null hypothesis in favour of alternative hypothesis')\n",
    "    print('We conclude that the Population mean is the same for both the Shingles A & B')"
   ]
  },
  {
   "cell_type": "markdown",
   "metadata": {},
   "source": [
    "#### Hence we conclude from the above tests that the Population mean is the same for both the samples of Shingle A & B.\n",
    "\n",
    "Thus confirming the fact that for different samples from same population, the population mean remains the same.\n",
    "\n",
    "We have used Two-sampled T-Test to confirm the same.\n",
    "\n",
    "\n"
   ]
  },
  {
   "cell_type": "markdown",
   "metadata": {},
   "source": [
    "Test of Power on Type II error:   \n",
    "\n",
    "Before we conclude with closing remarks, let's do the Power of Test which invariably gives us the picture of what chances does the given samples can result in Type II error. \n",
    "\n",
    "This means what chances does the samples have in making the error of Failing to reject the hypothesis when it is False."
   ]
  },
  {
   "cell_type": "code",
   "execution_count": 24,
   "metadata": {},
   "outputs": [
    {
     "data": {
      "text/plain": [
       "0.2259211072085413"
      ]
     },
     "execution_count": 24,
     "metadata": {},
     "output_type": "execute_result"
    }
   ],
   "source": [
    "smp.tt_solve_power(effect_size=(0.035161/0.231817), nobs=36, alpha=0.05, power=None, alternative='larger')"
   ]
  },
  {
   "cell_type": "markdown",
   "metadata": {},
   "source": [
    "The above result shows that Power of test (β) is : 0.2259 or 22.59%.  \n",
    "\n",
    "This means, the given the sample sets, the chances of making Type II error (Failing to reject Ho when it is False) is: 77.41% (1-β).   This is high which will negatively impact on the tests done. It will have ‘higher consumer risk’, which will affect the consumers."
   ]
  },
  {
   "cell_type": "markdown",
   "metadata": {},
   "source": [
    "So what should be the sample size required to reduce the Type II error? Assuming Power of test at 95% level"
   ]
  },
  {
   "cell_type": "code",
   "execution_count": 25,
   "metadata": {},
   "outputs": [
    {
     "data": {
      "text/plain": [
       "471.77298885022685"
      ]
     },
     "execution_count": 25,
     "metadata": {},
     "output_type": "execute_result"
    }
   ],
   "source": [
    "smp.tt_solve_power(effect_size=(0.035161/0.231817), nobs=None, alpha=0.05, power=0.95, alternative='larger')"
   ]
  },
  {
   "cell_type": "markdown",
   "metadata": {},
   "source": [
    "From the above it is evident that for a Power of Test @ 90%, to reduce the Type II error to <=5%, we need 472 samples to evaluate."
   ]
  },
  {
   "cell_type": "markdown",
   "metadata": {},
   "source": [
    "### The inference summary of all the tests conducted above are as follows:\n",
    "\n",
    "1. #### From both the shingles,the evidences are different where:   \n",
    "\n",
    "a. we fail to reject Null hypothesis (Ho) for Shingle A and reject company's claim that mean moisture content is less than 0.35 pound per 100 square feet for Shingles A. \n",
    "\n",
    "b. we reject the Null hypothesis (Ho) for Shingle B and accept company's claim that mean moisture content is less than 0.35 pound per 100 square feet for Shingles A. \n",
    "\n",
    "\n",
    "From the evidence taken from the above hypothesis workings whether the Population Mean of both shingles A & B are same, we can say that:\n",
    "\n",
    "a. the shingle A is NOT within the permissible limit of having mean moisture <0.35 pounds per 100 square feet as company claimed.\n",
    "\n",
    "b. the shingle B is within the permissible limit of having mean moisture <0.35 pounds per 100 square feet as company claimed.\n",
    "\n",
    "2. Formulated the hypothesis that the Population Mean for shingle A & B are equal and conducted the test of hypothesis using Two-sampled t-test. Since P-value is > ⍺ from the T-statistic calculated (0.201749 > 0.05) we fail to reject the Null Hypothesis and concluded from the evidence that the difference mean of both Shingles A and B = 0.   \n",
    "\n",
    "##### Hence the Population Mean for both the Shingles are equal.\n",
    "\n",
    "#### Recommendations to get better accuracy in results:\n",
    "\n",
    "From the evidence collected by doing the Power of Test (β) shows that Power of test is : 0.2259 or 22.59%%.     \n",
    "This means, the given the sample sets, the chances of making Type II error (Failing to reject hypothesis when it is False) is : 77.41%.\n",
    "\n",
    "So to reduce the Type II error to a level of <=5% (β-95%), when we calculated, it was statistically found out that having a sample size 472 or more will reduce the Type II error and increase the accuracy of the result. In simple words, we can reduce the error of \"Failing to reject hypothesis when it is False\".\n"
   ]
  },
  {
   "cell_type": "markdown",
   "metadata": {},
   "source": [
    "------------------------------------------------------------------   End of Report   -----------------------------------------------------------------------------------------"
   ]
  }
 ],
 "metadata": {
  "kernelspec": {
   "display_name": "Python 3",
   "language": "python",
   "name": "python3"
  },
  "language_info": {
   "codemirror_mode": {
    "name": "ipython",
    "version": 3
   },
   "file_extension": ".py",
   "mimetype": "text/x-python",
   "name": "python",
   "nbconvert_exporter": "python",
   "pygments_lexer": "ipython3",
   "version": "3.7.6"
  }
 },
 "nbformat": 4,
 "nbformat_minor": 4
}
